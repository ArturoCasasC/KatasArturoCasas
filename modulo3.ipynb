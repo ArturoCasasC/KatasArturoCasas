{
 "cells": [
  {
   "cell_type": "code",
   "execution_count": null,
   "metadata": {},
   "outputs": [],
   "source": [
    "asteroide = 35\n",
    "if asteroide > 25:\n",
    "    print(\"Advertencia: Asteroide  de gran tamaño aproximandose\")\n",
    "else:\n",
    "    print(\"No hay peligro\")"
   ]
  },
  {
   "cell_type": "code",
   "execution_count": null,
   "metadata": {},
   "outputs": [],
   "source": [
    "asteroide = 19\n",
    "if asteroide >= 20:\n",
    "    print(\"Puedes ver un rayo de luz desde la Tierra\")\n",
    "else:\n",
    "    print(\"No puedes ver un rayo de luz desde la Tierra\")\n"
   ]
  },
  {
   "cell_type": "code",
   "execution_count": 1,
   "metadata": {},
   "outputs": [
    {
     "name": "stdout",
     "output_type": "stream",
     "text": [
      "Peligro inminente acercandose hacia la Tierra\n"
     ]
    }
   ],
   "source": [
    "velAsteroide = 35\n",
    "tamAsteroide = 37\n",
    "if velAsteroide > 25 and tamAsteroide > 25:\n",
    "    print(\"Peligro inminente acercandose hacia la Tierra\")\n",
    "elif velAsteroide >= 20:\n",
    "    print(\"Puedes ver un rayo de luz desde la Tierra\")\n",
    "elif tamAsteroide < 25:\n",
    "    print(\"Nada que reportar\")\n",
    "else:\n",
    "    print(\"Nada que reportar\")"
   ]
  }
 ],
 "metadata": {
  "interpreter": {
   "hash": "2be5faf79681da6f2a61fdfdd5405d65d042280f7fba6178067603e3a2925119"
  },
  "kernelspec": {
   "display_name": "Python 3.10.2 64-bit",
   "language": "python",
   "name": "python3"
  },
  "language_info": {
   "codemirror_mode": {
    "name": "ipython",
    "version": 3
   },
   "file_extension": ".py",
   "mimetype": "text/x-python",
   "name": "python",
   "nbconvert_exporter": "python",
   "pygments_lexer": "ipython3",
   "version": "3.10.2"
  },
  "orig_nbformat": 4
 },
 "nbformat": 4,
 "nbformat_minor": 2
}
