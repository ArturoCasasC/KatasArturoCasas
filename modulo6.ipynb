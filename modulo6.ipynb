{
 "cells": [
  {
   "cell_type": "code",
   "execution_count": 1,
   "metadata": {},
   "outputs": [
    {
     "name": "stdout",
     "output_type": "stream",
     "text": [
      "Hay:  8 planetas\n",
      "Plutón es el último planeta\n"
     ]
    }
   ],
   "source": [
    "planets=[\"Mercurio\",\"Venus\",\"Tierra\",\"Marte\", \"Jupiter\",\"Saturno\", \"Urano\", \"Neptuno\"]\n",
    "print(\"Hay: \",len(planets), \"planetas\")\n",
    "\n",
    "planets.append(\"Plutón\")\n",
    "print(planets[-1], \"es el último planeta\")"
   ]
  },
  {
   "cell_type": "code",
   "execution_count": null,
   "metadata": {},
   "outputs": [],
   "source": [
    "planets=[\"Mercurio\",\"Venus\",\"Tierra\",\"Marte\", \"Jupiter\",\"Saturno\", \"Neptuno\"]\n",
    "\n",
    "user_planet = input(\"Ingresa el nombre del planeta empezando por mayúsculas\")\n",
    "planet_index = planets.index(user_planet)\n",
    "\n",
    "print(\"Estos son los planetas mas cercanos al sol: \" + user_planet)\n",
    "print(planets[0:planet_index])\n",
    "print(\"Estos son los planetas mas lejanos al sol: \" + user_planet)\n",
    "print(planets[planet_index + 1:])   \n"
   ]
  }
 ],
 "metadata": {
  "interpreter": {
   "hash": "2be5faf79681da6f2a61fdfdd5405d65d042280f7fba6178067603e3a2925119"
  },
  "kernelspec": {
   "display_name": "Python 3.10.2 64-bit",
   "language": "python",
   "name": "python3"
  },
  "language_info": {
   "codemirror_mode": {
    "name": "ipython",
    "version": 3
   },
   "file_extension": ".py",
   "mimetype": "text/x-python",
   "name": "python",
   "nbconvert_exporter": "python",
   "pygments_lexer": "ipython3",
   "version": "3.10.2"
  },
  "orig_nbformat": 4
 },
 "nbformat": 4,
 "nbformat_minor": 2
}
